{
  "cells": [
    {
      "cell_type": "markdown",
      "metadata": {
        "id": "ctmIWTyIViJb"
      },
      "source": [
        "#**Crawling Web**"
      ]
    },
    {
      "cell_type": "markdown",
      "metadata": {
        "id": "PpM-0GTtWNY9"
      },
      "source": [
        "#***library dan tools***"
      ]
    },
    {
      "cell_type": "code",
      "execution_count": null,
      "metadata": {
        "id": "pOBXk9C1Sn97"
      },
      "outputs": [],
      "source": [
        "import requests as rq\n",
        "from bs4 import BeautifulSoup as bs\n",
        "import pandas as pd\n",
        "import matplotlib.pyplot as plt\n",
        "\n",
        "hades = {'user-agent': 'Mozilla/5.0 (Windows NT 10.0; Win64; x64) AppleWebKit/537.36 (KHTML, like Gecko) Chrome/106.0.0.0 Safari/537.36'}"
      ]
    },
    {
      "cell_type": "markdown",
      "metadata": {
        "id": "BI5sazE7WZu-"
      },
      "source": [
        "\n",
        "- **rq**  untuk mengambil data dari sebuah website.\n",
        "- **bs** berfungsi untuk mengurai dan memproses data dari website.\n",
        "- **Pandas** digunakan untuk menyimpan data dalam format yang mudah dibaca dan diproses.\n",
        "- **plt** untuk visualisasi"
      ]
    },
    {
      "cell_type": "markdown",
      "metadata": {
        "id": "I50jpU9QWfwc"
      },
      "source": [
        "# **Source code**"
      ]
    },
    {
      "cell_type": "markdown",
      "metadata": {
        "id": "ES9mNcl6Wmus"
      },
      "source": [
        "#### Kategori dan Website target (Web CNBC)"
      ]
    },
    {
      "cell_type": "code",
      "execution_count": null,
      "metadata": {
        "id": "mozJuDBQSv58"
      },
      "outputs": [],
      "source": [
        "judul = []\n",
        "tanggal = []\n",
        "isi = []\n",
        "url_list = []\n",
        "kategori_list = []\n",
        "\n",
        "base_urls = [\n",
        "    \"https://www.cnbcindonesia.com/research/indeks/127/\",\n",
        "    \"https://www.cnbcindonesia.com/news/indeks/3/\",\n",
        "    \"https://www.cnbcindonesia.com/tech/indeks/12/\",\n",
        "    \"https://www.cnbcindonesia.com/market/indeks/5/\"\n",
        "]\n",
        "categories = [\n",
        "    \"Research\",\n",
        "    \"News\",\n",
        "    \"Tech\",\n",
        "    \"Market\"\n",
        "]"
      ]
    },
    {
      "cell_type": "markdown",
      "metadata": {
        "id": "X5YSAfcNW20J"
      },
      "source": [
        "#### Proses Scraping (Pengambilan Data)"
      ]
    },
    {
      "source": [
        "payload = {'tipe': 'artikel'}\n",
        "session = rq.Session()  # Menggunakan session untuk efisiensi\n",
        "\n",
        "for news, category in zip(base_urls, categories):\n",
        "    for page in range(1, 11):\n",
        "        url = f\"{news}{page}\"\n",
        "        try:\n",
        "            response = session.get(url, params=payload)\n",
        "            response.raise_for_status()  # Memunculkan exception jika status code bukan 2xx\n",
        "            soup = bs(response.content, \"html.parser\")\n",
        "            articles = soup.find_all(\"article\")\n",
        "\n",
        "            for article in articles:\n",
        "                try:\n",
        "                    link = article.find(\"a\")[\"href\"]\n",
        "\n",
        "                    # Jika data tidak ada di halaman daftar, request ke halaman artikel\n",
        "                    article_response = session.get(link)\n",
        "                    article_response.raise_for_status()\n",
        "                    articleFull = bs(article_response.content, \"html.parser\")\n",
        "\n",
        "                    judul_element = articleFull.select_one(\"h1.mb-4.text-32.font-extrabold\")\n",
        "                    judulArtikel = judul_element.text.strip() if judul_element else \"Title not found\"\n",
        "\n",
        "                    tanggalArtikel = articleFull.find(\"div\", class_=\"text-cm text-gray\").text.strip()\n",
        "\n",
        "                    artikel_element = articleFull.find(\"div\", class_=\"detail-text\")\n",
        "                    artikelTeks = [p.get_text(strip=True) for p in artikel_element.find_all(\"p\")]\n",
        "                    artikel_content = \"\\n\".join(artikelTeks)\n",
        "\n",
        "                    judul.append(judulArtikel)\n",
        "                    tanggal.append(tanggalArtikel)\n",
        "                    isi.append(artikel_content)\n",
        "                    url_list.append(link)\n",
        "                    kategori_list.append(category)\n",
        "\n",
        "                except (rq.exceptions.RequestException, AttributeError) as e:\n",
        "                    print(f\"Error processing article: {link}, Error: {e}\")\n",
        "\n",
        "        except rq.exceptions.RequestException as e:\n",
        "            print(f\"Error processing page: {url}, Error: {e}\")\n",
        "\n",
        "# Membuat dataframe dan menyimpan ke CSV\n",
        "df = pd.DataFrame({\"judul\": judul, \"tanggal\": tanggal, \"isi\": isi, \"url\": url_list, \"kategori\": kategori_list})\n",
        "df.to_csv(\"data-artikel-cnbc.csv\", index=False)"
      ],
      "cell_type": "code",
      "metadata": {
        "id": "yIPCy8bWyrny"
      },
      "execution_count": null,
      "outputs": []
    },
    {
      "cell_type": "markdown",
      "metadata": {
        "id": "AgYzkLG-YgW8"
      },
      "source": [
        "Sraping di sini, hanya mengambil data ; Judul, Tanggal postingan, isi Berita, Url, dan Kategori berita."
      ]
    },
    {
      "source": [
        "df.groupby('kategori').size()"
      ],
      "cell_type": "code",
      "metadata": {
        "colab": {
          "base_uri": "https://localhost:8080/",
          "height": 241
        },
        "id": "914B5qYL5Ktq",
        "outputId": "8680a41b-b63d-4d0a-beeb-e64fa821f060"
      },
      "execution_count": null,
      "outputs": [
        {
          "output_type": "execute_result",
          "data": {
            "text/plain": [
              "kategori\n",
              "Market      100\n",
              "News        100\n",
              "Research    100\n",
              "Tech        100\n",
              "dtype: int64"
            ],
            "text/html": [
              "<div>\n",
              "<style scoped>\n",
              "    .dataframe tbody tr th:only-of-type {\n",
              "        vertical-align: middle;\n",
              "    }\n",
              "\n",
              "    .dataframe tbody tr th {\n",
              "        vertical-align: top;\n",
              "    }\n",
              "\n",
              "    .dataframe thead th {\n",
              "        text-align: right;\n",
              "    }\n",
              "</style>\n",
              "<table border=\"1\" class=\"dataframe\">\n",
              "  <thead>\n",
              "    <tr style=\"text-align: right;\">\n",
              "      <th></th>\n",
              "      <th>0</th>\n",
              "    </tr>\n",
              "    <tr>\n",
              "      <th>kategori</th>\n",
              "      <th></th>\n",
              "    </tr>\n",
              "  </thead>\n",
              "  <tbody>\n",
              "    <tr>\n",
              "      <th>Market</th>\n",
              "      <td>100</td>\n",
              "    </tr>\n",
              "    <tr>\n",
              "      <th>News</th>\n",
              "      <td>100</td>\n",
              "    </tr>\n",
              "    <tr>\n",
              "      <th>Research</th>\n",
              "      <td>100</td>\n",
              "    </tr>\n",
              "    <tr>\n",
              "      <th>Tech</th>\n",
              "      <td>100</td>\n",
              "    </tr>\n",
              "  </tbody>\n",
              "</table>\n",
              "</div><br><label><b>dtype:</b> int64</label>"
            ]
          },
          "metadata": {},
          "execution_count": 4
        }
      ]
    },
    {
      "source": [
        "df[\"kategori\"].value_counts().plot(kind=\"pie\")\n",
        "plt.show()"
      ],
      "cell_type": "code",
      "metadata": {
        "colab": {
          "base_uri": "https://localhost:8080/",
          "height": 406
        },
        "id": "tHvjWvKW4zbH",
        "outputId": "0a127ddb-bcce-4c65-9a74-a5bba304537d"
      },
      "execution_count": null,
      "outputs": [
        {
          "output_type": "display_data",
          "data": {
            "text/plain": [
              "<Figure size 640x480 with 1 Axes>"
            ],
            "image/png": "[encoded data removed]"
          },
          "metadata": {}
        }
      ]
    },
    {
      "cell_type": "markdown",
      "metadata": {
        "id": "1aySOWR3bRdS"
      },
      "source": [
        "**len di gunakan untuk menapilkan hasil sudah lengkap atau tidak.**"
      ]
    },
    {
      "cell_type": "code",
      "execution_count": null,
      "metadata": {
        "colab": {
          "base_uri": "https://localhost:8080/"
        },
        "id": "IPAxh5E3TKeP",
        "outputId": "38db674c-937c-4c43-ca94-59c0d43a5a0b"
      },
      "outputs": [
        {
          "output_type": "stream",
          "name": "stdout",
          "text": [
            "400 400 400 400 400\n"
          ]
        }
      ],
      "source": [
        "print(len(judul), len(tanggal), len(isi), len(url_list), len(kategori_list))"
      ]
    },
    {
      "cell_type": "code",
      "execution_count": null,
      "metadata": {
        "colab": {
          "base_uri": "https://localhost:8080/",
          "height": 363
        },
        "id": "QZs5Hy56TeKv",
        "outputId": "fa82ff4a-6630-4fc5-9814-204ec964e0a8"
      },
      "outputs": [
        {
          "output_type": "execute_result",
          "data": {
            "text/plain": [
              "                                               judul                 tanggal  \\\n",
              "0  5 Terminal Bus Populer di Jakarta yang Melayan...  19 December 2024 18:40   \n",
              "1  Waspada! ini Titik Rawan Macet di Tol Pulau Ja...  19 December 2024 17:35   \n",
              "2  Termasuk Alfamart, Ini Daftar 5 Raksasa Jaring...  19 December 2024 16:55   \n",
              "3  Amukan Dolar AS Tak Terbendung, Rupiah Bernasi...  19 December 2024 14:30   \n",
              "4  Ini 6 BPR Syariah Terbaik Penopang Usaha Kecil...  19 December 2024 14:10   \n",
              "5  Nasib CPO RI di Kala Hujan Tinggi Bawa Petaka ...  19 December 2024 14:05   \n",
              "6  Anjlok 1% Lebih, Analis: Waspada IHSG Bisa Tur...  19 December 2024 13:38   \n",
              "7  Dolar Tembus Rp16.200, Ini Penyebab & Analisa ...  19 December 2024 11:44   \n",
              "8  Perusahaan Aguan Siap IPO, Begini Prospek dan ...  19 December 2024 10:40   \n",
              "9  Pemilik Logam Mulia Pegangan yang Erat, Harga ...  19 December 2024 06:20   \n",
              "\n",
              "                                                 isi  \\\n",
              "0  Jakarta, CNBC Indonesia- Musim mudik liburan N...   \n",
              "1  Jakarta, CNBC Indonesia- Arus mudik periode li...   \n",
              "2  Jakarta,CNBC Indonesia-Indonesia menjadi rumah...   \n",
              "3  Jakarta, CNBC Indonesia -Nilai tukar mata uang...   \n",
              "4  Jakarta, CNBC Indonesia -Bank Pembiayaan Rakya...   \n",
              "5  Jakarta,CNBC Indonesia-Hujan, yang sering dian...   \n",
              "6  Jakarta, CNBC Indonesia -Indeks Harga Saham Ga...   \n",
              "7  Jakarta, CNBC Indonesia -Nilai tukar rupiah te...   \n",
              "8  Jakarta, CNBC Indonesia -PT Bangun Kosambi Suk...   \n",
              "9  Jakarta, CNBC Indonesia -Harga emas dunia di p...   \n",
              "\n",
              "                                                 url  kategori  \n",
              "0  https://www.cnbcindonesia.com/research/2024121...  Research  \n",
              "1  https://www.cnbcindonesia.com/research/2024121...  Research  \n",
              "2  https://www.cnbcindonesia.com/research/2024121...  Research  \n",
              "3  https://www.cnbcindonesia.com/research/2024121...  Research  \n",
              "4  https://www.cnbcindonesia.com/research/2024121...  Research  \n",
              "5  https://www.cnbcindonesia.com/research/2024121...  Research  \n",
              "6  https://www.cnbcindonesia.com/research/2024121...  Research  \n",
              "7  https://www.cnbcindonesia.com/research/2024121...  Research  \n",
              "8  https://www.cnbcindonesia.com/research/2024121...  Research  \n",
              "9  https://www.cnbcindonesia.com/research/2024121...  Research  "
            ],
            "text/html": [
              "\n",
              "  <div id=\"df-405469fb-c6f5-4e88-a576-dee5fb5fff36\" class=\"colab-df-container\">\n",
              "    <div>\n",
              "<style scoped>\n",
              "    .dataframe tbody tr th:only-of-type {\n",
              "        vertical-align: middle;\n",
              "    }\n",
              "\n",
              "    .dataframe tbody tr th {\n",
              "        vertical-align: top;\n",
              "    }\n",
              "\n",
              "    .dataframe thead th {\n",
              "        text-align: right;\n",
              "    }\n",
              "</style>\n",
              "<table border=\"1\" class=\"dataframe\">\n",
              "  <thead>\n",
              "    <tr style=\"text-align: right;\">\n",
              "      <th></th>\n",
              "      <th>judul</th>\n",
              "      <th>tanggal</th>\n",
              "      <th>isi</th>\n",
              "      <th>url</th>\n",
              "      <th>kategori</th>\n",
              "    </tr>\n",
              "  </thead>\n",
              "  <tbody>\n",
              "    <tr>\n",
              "      <th>0</th>\n",
              "      <td>5 Terminal Bus Populer di Jakarta yang Melayan...</td>\n",
              "      <td>19 December 2024 18:40</td>\n",
              "      <td>Jakarta, CNBC Indonesia- Musim mudik liburan N...</td>\n",
              "      <td>https://www.cnbcindonesia.com/research/2024121...</td>\n",
              "      <td>Research</td>\n",
              "    </tr>\n",
              "    <tr>\n",
              "      <th>1</th>\n",
              "      <td>Waspada! ini Titik Rawan Macet di Tol Pulau Ja...</td>\n",
              "      <td>19 December 2024 17:35</td>\n",
              "      <td>Jakarta, CNBC Indonesia- Arus mudik periode li...</td>\n",
              "      <td>https://www.cnbcindonesia.com/research/2024121...</td>\n",
              "      <td>Research</td>\n",
              "    </tr>\n",
              "    <tr>\n",
              "      <th>2</th>\n",
              "      <td>Termasuk Alfamart, Ini Daftar 5 Raksasa Jaring...</td>\n",
              "      <td>19 December 2024 16:55</td>\n",
              "      <td>Jakarta,CNBC Indonesia-Indonesia menjadi rumah...</td>\n",
              "      <td>https://www.cnbcindonesia.com/research/2024121...</td>\n",
              "      <td>Research</td>\n",
              "    </tr>\n",
              "    <tr>\n",
              "      <th>3</th>\n",
              "      <td>Amukan Dolar AS Tak Terbendung, Rupiah Bernasi...</td>\n",
              "      <td>19 December 2024 14:30</td>\n",
              "      <td>Jakarta, CNBC Indonesia -Nilai tukar mata uang...</td>\n",
              "      <td>https://www.cnbcindonesia.com/research/2024121...</td>\n",
              "      <td>Research</td>\n",
              "    </tr>\n",
              "    <tr>\n",
              "      <th>4</th>\n",
              "      <td>Ini 6 BPR Syariah Terbaik Penopang Usaha Kecil...</td>\n",
              "      <td>19 December 2024 14:10</td>\n",
              "      <td>Jakarta, CNBC Indonesia -Bank Pembiayaan Rakya...</td>\n",
              "      <td>https://www.cnbcindonesia.com/research/2024121...</td>\n",
              "      <td>Research</td>\n",
              "    </tr>\n",
              "    <tr>\n",
              "      <th>5</th>\n",
              "      <td>Nasib CPO RI di Kala Hujan Tinggi Bawa Petaka ...</td>\n",
              "      <td>19 December 2024 14:05</td>\n",
              "      <td>Jakarta,CNBC Indonesia-Hujan, yang sering dian...</td>\n",
              "      <td>https://www.cnbcindonesia.com/research/2024121...</td>\n",
              "      <td>Research</td>\n",
              "    </tr>\n",
              "    <tr>\n",
              "      <th>6</th>\n",
              "      <td>Anjlok 1% Lebih, Analis: Waspada IHSG Bisa Tur...</td>\n",
              "      <td>19 December 2024 13:38</td>\n",
              "      <td>Jakarta, CNBC Indonesia -Indeks Harga Saham Ga...</td>\n",
              "      <td>https://www.cnbcindonesia.com/research/2024121...</td>\n",
              "      <td>Research</td>\n",
              "    </tr>\n",
              "    <tr>\n",
              "      <th>7</th>\n",
              "      <td>Dolar Tembus Rp16.200, Ini Penyebab &amp; Analisa ...</td>\n",
              "      <td>19 December 2024 11:44</td>\n",
              "      <td>Jakarta, CNBC Indonesia -Nilai tukar rupiah te...</td>\n",
              "      <td>https://www.cnbcindonesia.com/research/2024121...</td>\n",
              "      <td>Research</td>\n",
              "    </tr>\n",
              "    <tr>\n",
              "      <th>8</th>\n",
              "      <td>Perusahaan Aguan Siap IPO, Begini Prospek dan ...</td>\n",
              "      <td>19 December 2024 10:40</td>\n",
              "      <td>Jakarta, CNBC Indonesia -PT Bangun Kosambi Suk...</td>\n",
              "      <td>https://www.cnbcindonesia.com/research/2024121...</td>\n",
              "      <td>Research</td>\n",
              "    </tr>\n",
              "    <tr>\n",
              "      <th>9</th>\n",
              "      <td>Pemilik Logam Mulia Pegangan yang Erat, Harga ...</td>\n",
              "      <td>19 December 2024 06:20</td>\n",
              "      <td>Jakarta, CNBC Indonesia -Harga emas dunia di p...</td>\n",
              "      <td>https://www.cnbcindonesia.com/research/2024121...</td>\n",
              "      <td>Research</td>\n",
              "    </tr>\n",
              "  </tbody>\n",
              "</table>\n",
              "</div>\n",
              "    <div class=\"colab-df-buttons\">\n",
              "\n",
              "  <div class=\"colab-df-container\">\n",
              "    <button class=\"colab-df-convert\" onclick=\"convertToInteractive('df-405469fb-c6f5-4e88-a576-dee5fb5fff36')\"\n",
              "            title=\"Convert this dataframe to an interactive table.\"\n",
              "            style=\"display:none;\">\n",
              "\n",
              "  <svg xmlns=\"http://www.w3.org/2000/svg\" height=\"24px\" viewBox=\"0 -960 960 960\">\n",
              "    <path d=\"M120-120v-720h720v720H120Zm60-500h600v-160H180v160Zm220 220h160v-160H400v160Zm0 220h160v-160H400v160ZM180-400h160v-160H180v160Zm440 0h160v-160H620v160ZM180-180h160v-160H180v160Zm440 0h160v-160H620v160Z\"/>\n",
              "  </svg>\n",
              "    </button>\n",
              "\n",
              "  <style>\n",
              "    .colab-df-container {\n",
              "      display:flex;\n",
              "      gap: 12px;\n",
              "    }\n",
              "\n",
              "    .colab-df-convert {\n",
              "      background-color: #E8F0FE;\n",
              "      border: none;\n",
              "      border-radius: 50%;\n",
              "      cursor: pointer;\n",
              "      display: none;\n",
              "      fill: #1967D2;\n",
              "      height: 32px;\n",
              "      padding: 0 0 0 0;\n",
              "      width: 32px;\n",
              "    }\n",
              "\n",
              "    .colab-df-convert:hover {\n",
              "      background-color: #E2EBFA;\n",
              "      box-shadow: 0px 1px 2px rgba(60, 64, 67, 0.3), 0px 1px 3px 1px rgba(60, 64, 67, 0.15);\n",
              "      fill: #174EA6;\n",
              "    }\n",
              "\n",
              "    .colab-df-buttons div {\n",
              "      margin-bottom: 4px;\n",
              "    }\n",
              "\n",
              "    [theme=dark] .colab-df-convert {\n",
              "      background-color: #3B4455;\n",
              "      fill: #D2E3FC;\n",
              "    }\n",
              "\n",
              "    [theme=dark] .colab-df-convert:hover {\n",
              "      background-color: #434B5C;\n",
              "      box-shadow: 0px 1px 3px 1px rgba(0, 0, 0, 0.15);\n",
              "      filter: drop-shadow(0px 1px 2px rgba(0, 0, 0, 0.3));\n",
              "      fill: #FFFFFF;\n",
              "    }\n",
              "  </style>\n",
              "\n",
              "    <script>\n",
              "      const buttonEl =\n",
              "        document.querySelector('#df-405469fb-c6f5-4e88-a576-dee5fb5fff36 button.colab-df-convert');\n",
              "      buttonEl.style.display =\n",
              "        google.colab.kernel.accessAllowed ? 'block' : 'none';\n",
              "\n",
              "      async function convertToInteractive(key) {\n",
              "        const element = document.querySelector('#df-405469fb-c6f5-4e88-a576-dee5fb5fff36');\n",
              "        const dataTable =\n",
              "          await google.colab.kernel.invokeFunction('convertToInteractive',\n",
              "                                                    [key], {});\n",
              "        if (!dataTable) return;\n",
              "\n",
              "        const docLinkHtml = 'Like what you see? Visit the ' +\n",
              "          '<a target=\"_blank\" href=https://colab.research.google.com/notebooks/data_table.ipynb>data table notebook</a>'\n",
              "          + ' to learn more about interactive tables.';\n",
              "        element.innerHTML = '';\n",
              "        dataTable['output_type'] = 'display_data';\n",
              "        await google.colab.output.renderOutput(dataTable, element);\n",
              "        const docLink = document.createElement('div');\n",
              "        docLink.innerHTML = docLinkHtml;\n",
              "        element.appendChild(docLink);\n",
              "      }\n",
              "    </script>\n",
              "  </div>\n",
              "\n",
              "\n",
              "<div id=\"df-9bfe623e-021a-40b9-9302-05563860442c\">\n",
              "  <button class=\"colab-df-quickchart\" onclick=\"quickchart('df-9bfe623e-021a-40b9-9302-05563860442c')\"\n",
              "            title=\"Suggest charts\"\n",
              "            style=\"display:none;\">\n",
              "\n",
              "<svg xmlns=\"http://www.w3.org/2000/svg\" height=\"24px\"viewBox=\"0 0 24 24\"\n",
              "     width=\"24px\">\n",
              "    <g>\n",
              "        <path d=\"M19 3H5c-1.1 0-2 .9-2 2v14c0 1.1.9 2 2 2h14c1.1 0 2-.9 2-2V5c0-1.1-.9-2-2-2zM9 17H7v-7h2v7zm4 0h-2V7h2v10zm4 0h-2v-4h2v4z\"/>\n",
              "    </g>\n",
              "</svg>\n",
              "  </button>\n",
              "\n",
              "<style>\n",
              "  .colab-df-quickchart {\n",
              "      --bg-color: #E8F0FE;\n",
              "      --fill-color: #1967D2;\n",
              "      --hover-bg-color: #E2EBFA;\n",
              "      --hover-fill-color: #174EA6;\n",
              "      --disabled-fill-color: #AAA;\n",
              "      --disabled-bg-color: #DDD;\n",
              "  }\n",
              "\n",
              "  [theme=dark] .colab-df-quickchart {\n",
              "      --bg-color: #3B4455;\n",
              "      --fill-color: #D2E3FC;\n",
              "      --hover-bg-color: #434B5C;\n",
              "      --hover-fill-color: #FFFFFF;\n",
              "      --disabled-bg-color: #3B4455;\n",
              "      --disabled-fill-color: #666;\n",
              "  }\n",
              "\n",
              "  .colab-df-quickchart {\n",
              "    background-color: var(--bg-color);\n",
              "    border: none;\n",
              "    border-radius: 50%;\n",
              "    cursor: pointer;\n",
              "    display: none;\n",
              "    fill: var(--fill-color);\n",
              "    height: 32px;\n",
              "    padding: 0;\n",
              "    width: 32px;\n",
              "  }\n",
              "\n",
              "  .colab-df-quickchart:hover {\n",
              "    background-color: var(--hover-bg-color);\n",
              "    box-shadow: 0 1px 2px rgba(60, 64, 67, 0.3), 0 1px 3px 1px rgba(60, 64, 67, 0.15);\n",
              "    fill: var(--button-hover-fill-color);\n",
              "  }\n",
              "\n",
              "  .colab-df-quickchart-complete:disabled,\n",
              "  .colab-df-quickchart-complete:disabled:hover {\n",
              "    background-color: var(--disabled-bg-color);\n",
              "    fill: var(--disabled-fill-color);\n",
              "    box-shadow: none;\n",
              "  }\n",
              "\n",
              "  .colab-df-spinner {\n",
              "    border: 2px solid var(--fill-color);\n",
              "    border-color: transparent;\n",
              "    border-bottom-color: var(--fill-color);\n",
              "    animation:\n",
              "      spin 1s steps(1) infinite;\n",
              "  }\n",
              "\n",
              "  @keyframes spin {\n",
              "    0% {\n",
              "      border-color: transparent;\n",
              "      border-bottom-color: var(--fill-color);\n",
              "      border-left-color: var(--fill-color);\n",
              "    }\n",
              "    20% {\n",
              "      border-color: transparent;\n",
              "      border-left-color: var(--fill-color);\n",
              "      border-top-color: var(--fill-color);\n",
              "    }\n",
              "    30% {\n",
              "      border-color: transparent;\n",
              "      border-left-color: var(--fill-color);\n",
              "      border-top-color: var(--fill-color);\n",
              "      border-right-color: var(--fill-color);\n",
              "    }\n",
              "    40% {\n",
              "      border-color: transparent;\n",
              "      border-right-color: var(--fill-color);\n",
              "      border-top-color: var(--fill-color);\n",
              "    }\n",
              "    60% {\n",
              "      border-color: transparent;\n",
              "      border-right-color: var(--fill-color);\n",
              "    }\n",
              "    80% {\n",
              "      border-color: transparent;\n",
              "      border-right-color: var(--fill-color);\n",
              "      border-bottom-color: var(--fill-color);\n",
              "    }\n",
              "    90% {\n",
              "      border-color: transparent;\n",
              "      border-bottom-color: var(--fill-color);\n",
              "    }\n",
              "  }\n",
              "</style>\n",
              "\n",
              "  <script>\n",
              "    async function quickchart(key) {\n",
              "      const quickchartButtonEl =\n",
              "        document.querySelector('#' + key + ' button');\n",
              "      quickchartButtonEl.disabled = true;  // To prevent multiple clicks.\n",
              "      quickchartButtonEl.classList.add('colab-df-spinner');\n",
              "      try {\n",
              "        const charts = await google.colab.kernel.invokeFunction(\n",
              "            'suggestCharts', [key], {});\n",
              "      } catch (error) {\n",
              "        console.error('Error during call to suggestCharts:', error);\n",
              "      }\n",
              "      quickchartButtonEl.classList.remove('colab-df-spinner');\n",
              "      quickchartButtonEl.classList.add('colab-df-quickchart-complete');\n",
              "    }\n",
              "    (() => {\n",
              "      let quickchartButtonEl =\n",
              "        document.querySelector('#df-9bfe623e-021a-40b9-9302-05563860442c button');\n",
              "      quickchartButtonEl.style.display =\n",
              "        google.colab.kernel.accessAllowed ? 'block' : 'none';\n",
              "    })();\n",
              "  </script>\n",
              "</div>\n",
              "\n",
              "    </div>\n",
              "  </div>\n"
            ],
            "application/vnd.google.colaboratory.intrinsic+json": {
              "type": "dataframe",
              "variable_name": "df",
              "summary": "{\n  \"name\": \"df\",\n  \"rows\": 400,\n  \"fields\": [\n    {\n      \"column\": \"judul\",\n      \"properties\": {\n        \"dtype\": \"string\",\n        \"num_unique_values\": 399,\n        \"samples\": [\n          \"Bos BI Blak-Blakan Soal Alasan Dolar Kembali Perkasa ke Rp 16.000\",\n          \"Bank Penyalur Kredit ke Industri Padat Karya Dapat Insentif Likuiditas\",\n          \"Siap-Siap! 5 Saham Ini Bakal Melantai di Awal 2025: Ada Punya Aguan\"\n        ],\n        \"semantic_type\": \"\",\n        \"description\": \"\"\n      }\n    },\n    {\n      \"column\": \"tanggal\",\n      \"properties\": {\n        \"dtype\": \"object\",\n        \"num_unique_values\": 385,\n        \"samples\": [\n          \"16 December 2024 15:50\",\n          \"17 December 2024 12:10\",\n          \"18 December 2024 13:40\"\n        ],\n        \"semantic_type\": \"\",\n        \"description\": \"\"\n      }\n    },\n    {\n      \"column\": \"isi\",\n      \"properties\": {\n        \"dtype\": \"string\",\n        \"num_unique_values\": 400,\n        \"samples\": [\n          \"Jakarta, CNBC Indonesia -Banyak penipu dan peretas yang mencoba membobol HP Anda dan patut diwaspadai. Salah satunya melalui aplikasi pesan singkat populer WhatsApp.\\n\\nAda banyak cara peretas melakukan penyadapan seperti memasang aplikasi pihak ketiga, memanfaatkan WhatsAp Web dan mengirimkan malware. Biasanya ini bertujuan untuk melakukan penipuan hingga menguras rekening para korbannya.\\n\\nAda beberapa ciri mengenali WhatsApp Anda mungkin tengah disadap oleh orang lain. Berikut beberapa ciri-cirinya:\\n\\nAnda perlu waspada jika mendapati pesan berisi One Time Password atau OTP WhatsApp. Kode berisi enam angka hanya dikirim melalui SMS saat akan mengakses WhatsApp. Artinya ada seseorang yang berusaha masuk ke akun Anda jika terdapat SMS OTP yang masuk. Ingat untuk tidak memberikan kode tersebut kepada siapapun.\\n\\nCiri lainnya adalah akun WhatsApp yang tiba-tiba keluar atau log out sendiri. Ini terjadi bisa saja saat ada perangkat yang berusaha mencoba masuk ke akun. Anda bisa mengcek perangkat apa yang terhubung dengan akun dengan masuk ke pengaturan dan pilih opsi WhatsApp Web.\\n\\nJika Anda merasa tidak pernah membaca pesan tertentu namun ternyata pesan telah terbuka, kemungkinan ini menjadi ciri-ciri akun telah dibajak oleh orang lain.\\n\\nSama seperti sebelumnya, tetap waspada saat melihat ada pesan WhatsApp yang terkirim sendiri. Ini terjadi saat Anda tak pernah merasa mengirimkan apapun.\\n\\nAnda juga patut curiga jika melihat status WhatsApp yang asing, padahal tidak pernah membuat unggahan tersebut sebelumnya.\\n\\nCiri terakhir penyadapan WhatsApp adalah adanya panggilan telepon asing. Sama seperti ciri lainnya, Anda tak pernah melakukan telepon itu sebelumnya.\\n\\nUntuk menghindari penyadapan, salah satu yang bisa dilakukan adalah verifikasi dua langkah. Fitur tersebut mencegah pihak lain mengakses akun WhatsApp, karena tidak mengetahui kode yang didaftarkan pengguna.\\n\\nAnda juga perlu ingat tidak membagikan kode verifikasi dua langkah agar tidak ada pihak manapun yang bisa membuka akun tanpa sepengetahuan Anda. Berikut cara mengaktifkannya:\\n\\n- Klik opsi tiga titik\\n- Masuk ke Settings, lalu menuju Account dan klik Two-Step Verification\\n- Tekan Enable\\n- Masukkan enam kode\\n- Jangan lupa masukkan alamat email untuk memulihkan lupa kode yang didaftarkan\\n\\nNah, itu dia beberapa tanda WhatsApp\\u00a0disadap dari jarak jauh. Simak!\",\n          \"Jakarta, CNBC Indonesia- Mulai Januari 2025, pemerintah akan menetapkan kenaikan harga Pajak Pertambahan Nilai (PPN) menjadi 12%. Saat ini, PPN yang berlaku masih 11%.\\nKebijakan\\u00a0kenaikan PPN tertuang dalam UU Nomor 7 Tahun 2021, tentang Harmonisasi Peraturan Perpajakan.\\nDengan PPN 12%, harga barang dan jasa yang dikonsumsi masyarakat sehari-hari juga akan naik. Salah satunya harga langganan streaming konten seperti Netflix\\u00a0dan Spotify.\\nBerdasarkan penghitungan CNBC\\u00a0Indonesia, kenaikan layanan streaming imbas PPN 12% bervariasi dari Rp 500-Rp 2.000. Kenaikan itu tergantung pada paket yang digunakan pelanggan.\\nBerikut perbandingan harga dua layanan streaming tersebut setelah kena pajak 11% dan 12%:\\nPaket Ponsel\\nKena pajak 11% senilai Rp 59.940/bulan. Mulai tahun depan harga paket ini akan menjadi Rp 60.480 per bulan\\nPaket Dasar\\nSaat ini, harga paket dasar senilai Rp 72.150/bulan. Setelah kena pajak 12% tahun depan harganya menjadi Rp 72.800 perbulan.\\nPaket Standar\\nPaket Standar Netflix dengan pajak 11% dibanderol Rp 133.200/bulan, naik menjadi Rp 134.400 per bulan mulai tahun depan.\\nPaket Premium\\nDengan pajak sekarang, paket termahal Netlix dibanderol Rp 206.460/bulan. Tahun depan harganya jadi Rp 208.320 per bulan.\\nPaket Mini\\nPaket Mini untuk sehari dibanderol Rp 2.500. Namun akan menjadi Rp 2.800 per satu hari saat pajak 12% telah diterapkan.\\nPaket Individual\\nPelanggan harus membayar Rp 54.990 untuk berlangganan 2 bulan (selanjutnya Rp 54.990/bulan) sekarang bagi yang berlangganan paket individual. Tahun depan menjadi Rp 61.588 per dua bulan, dan berikutnya membayar Rp 61.588 per bulan.\\nPaket Student\\nPaket Student sekarang dibanderol Rp 27.500/2 bulan (selanjutnya Rp 27.500/bulan). Nantinya akan menjadi Rp 30.800 per dua bulan dan harga yang sama tiap bulannya.\\nPaket Duo\\nPelanggan Paket Duo Spotify harus membayar Rp 71.490/2 bulan, lalu Rp 71.490/bulan. Sementara tahun depan harganya menjadi Rp 80.068 untuk dua bulan pertama dan bulan berikutnya.\\nPaket Family\\nPaket Family Spotify dibanderol Rp 86.900/2 bulan (selanjutnya 86.900/bulan). Setelah PPN menjadi 12%, harganya menjadi Rp 97.328 per dua bulan dan harga yang sama untuk bulan berikutnya.\",\n          \"Jakarta, CNBC Indonesia -Awal\\u00a0 2025, pasar saham Indonesia akan dibanjiri oleh saham-saham baru yang akan melantai di Bursa Efek Indonesia (BEI). Terpantau hingga hari ini Selasa (17/12/2024), sudah terdapat lima perusahaan yang akan melakukan Initial Public Offering (IPO).\\nYang menariknya saham-saham IPO ini sebagian berasal dari kalangan konglomerat yang dapat menarik perhatian para pelaku pasar.\\nBerikut lima saham IPO yang akan melantai pada Januari 2025 yang telah dirangkum oleh CNBC Indonesia Research.\\n\\nPT Delta Giri Wacana Tbk (DGWG)\\nPertama datang dari perusahaan yang bergerak di bidang pupuk dan agrokimia, PT Delta Giri Wacana Tbk. (DGWG) akan melepas sahamnya di Bursa Efek Indonesia (BEI) dengan melakukan pencatatan saham perdana (Initial Public Offering/IPO).\\nMengutip prospektusnya, DGWG melepas sebanyak-banyaknya 1.666.666.700 saham biasa atas nama yang merupakan saham baru, dengan nilai nominal Rp100 per saham yang mewakili sebanyak-banyaknya sebesar 25% dari modal yang telah ditempatkan dan disetor penuh.\\nAdapun harga yang ditawarkan kepada masyarakat sebesar Rp420 hingga Rp620 per saham. Sehingga nantinya perseroan akan mendapatkan dana segar sebanyak-banyaknya Rp1.033.333.354.000.\\nUntuk memuluskan aksi korporasi ini, perusahaan menunjuk PT BRI Danareksa Sekuritas, PT Samuel Sekuritas, dan PT Shinhan Sekuritas Indonesia.\\nDana yang diperoleh dari hasil IPO setelah dikurangi biaya-biaya emisi, sekitar 54,7% akan disetorkan Perseroan kepada PT Fertilizer Inti Technology dalam bentuk penyertaan modal, sekitar 8,9% akan disetorkan Perseroan kepada PT Dharma Guna Wibawa dalam bentuk penyertaan modal.\\nSelanjutnya, sekitar 33,1% akan digunakan Perseroan untuk modal kerja, sementara sisanya akan disetorkan Perseroan kepada PT Semesta Alam Sejati dalam bentuk penyertaan modal untuk pemenuhan modal kerja.\\nPT Asuransi Digital Bersama Tbk (YOII)\\nDari industri asuransi, perusahaan asuransi yang berfokus di produk asuransi gaya hidup (lifestyle), PT Asuransi Digital Bersama Tbk (YOII) berencana melepas saham di pasar modal dengan mencatatkan saham perdana (Initial Public Offering/IPO) sebanyak 412.087.500 lembar saham atau mewakili maksimal 12,03% dari jumlah seluruh modal ditempatkan.\\nPerseroan menetapkan harga penawaran umum saham perdana alias IPO sebesar Rp100-Rp110. Artinya, nanti perseroan akan mendapatkan dana segar sebanyak-banyaknya sebesar Rp45,32 miliar.\\nDirektur Utama PT Asuransi Digital Bersama Tbk (YOII) Adi Wibowo Adisaputro mengatakan, seluruh dana yang diperoleh dari hasil penjualan saham yang ditawarkan lewat IPO ini setelah dikurangi biaya-biaya emisi akan digunakan seluruhnya untuk modal kerja dalam rangka memperkuat struktur permodalan Perseroan.\\nRinciannya, sekitar 80% akan dipergunakan untuk biaya marketing untuk mendukung strategi usaha, distribusi produk, dan Brand Awareness Perseroan.\\nSementara sisanya sekitar 20% akan dipergunakan untuk pengembangan aplikasi (insurance wallet) beserta infrastruktur penunjang seperti Data Center, Web Hosting, System Security, dan penggunaan AI, serta pengembangan sumber daya manusia di mana di dalamnya terdapat biaya perekrutan karyawan baru untuk Information Technology, Teknis, dan Operasional.\\nPT Kentanix Supra International Tbk (KSIX)\\nDari industri properti, PT Kentanix Supra International Tbk. (KSIX) berencana untuk mencatatkan penawaran saham perdana ke publik (initial public offering/IPO) dengan harga penawaran Rp312-468 per saham.\\nKSIX bergerak dalam bidang pembangunan kawasan perumahan atau real estate ini melepas sebanyak-banyaknya 320.674.800 saham atau 15% dari modal yang ditempatkan dan disetor perseroan setelah IPO. Harga penawaran awal (book building) di kisaran Rp312-468 per saham, sehingga Kentanix Supra akan meraup dana IPO sebanyak-banyaknya Rp150,07 miliar.\\nSeluruh dana yang diperoleh dari hasil IPO KSIX setelah dikurangi biaya-biaya emisi, seluruhnya akan digunakan, sekitar 59,42% akan digunakan perseroan sebagai modal kerja untuk pembangunan infrastruktur, termasuk cut and fill (perataan tanah) dan pembangunan rumah di 2 proyek yang sudah ada sebelumnya, yaitu Grand Nusa Indah dan Adhigana - Grand Nusa Indah (GNI), serta pembangunan infrastruktur di proyek baru, Adhigana - Perluasan.\\nKemudian, sekitar 27,84% akan digunakan perseroan sebagai setoran modal kepada SPB dalam rangka modal kerja untuk pembangunan infrastruktur, termasuk cut and fill (perataan tanah) dan pembangunan rumah yang sudah ada sebelumnya, yaitu Vila Bogor Indah 6. Dan sisanya akan digunakan untuk biaya operasional perseroan dalam menjalankan kegiatan usaha perseroan.\\nKSIX merupakan perusahaan pengembang di Indonesia yang telah membangun berbagai proyek perumahan, mulai dari hunian bersubsidi hingga hunian dengan segmen pasar menengah. Perseroan telah mengembangkan tujuh proyek di Cileungsi, Bogor, dan Serang, di antaranya Grand Nusa Indah Cileungsi, Adhigana - Grand Nusa Indah, Permata Nusa Indah Situsari, Vila Bogor Indah 6, Gaura Villa Bogor Indah, Taman Krakatau, dan Griya Permata Asri.\\nPT Bangun Kosambi Sukses Tbk (CBDK)\\nEntitas usaha PT Pantai Indah Kapuk Dua Tbk. (PANI), yaitu PT Bangun Kosambi Sukses Tbk. (CBDK) akan melepas sahamnya di Bursa Efek Indonessia (BEI) melalui pencatatan saham perdana (Initial Public Offering/IPO).\\nMengutip keterbukaan informasi BEI, emiten yang bergerak di sektor properti dan real estate ini melepas sebanyak 566.894.500 saham atau 10% dari total saham yang ditempatkan dan disetor penuh.\\nPANI sendiri menggenggam saham CBDK sebesar 51% atau sebanyak 10,92 miliar lembar saham. Harga saham yang ditawarkan kepada masyarakat dalam IPO ini sebesar Rp3.000 hingga Rp4.060 per saham.\\nUntuk memuluskan aksi korporasi ini, perseroan menunjuk PT Trimegah Sekuritas Indonesia Tbk. Adapun masa book building mulai 13 Desember hingga 20 Desember 2024.\\nSebagai informasi, perseroan didirikan pada tahun 2000 dan bergerak dalam bidang pembangunan perumahan (real estate), yang mencakup usaha pembelian, penjualan, persewaan dan pengoperasian real estat baik yang dimiliki sendiri maupun disewa, seperti bangunan apartemen, bangunan hunian dan bangunan nonhunian (seperti fasilitas penyimpanan/gudang, mall, pusat perbelanjaan dan lainnya) serta penyediaan rumah dan flat atau apartemen dengan atau tanpa perabotan untuk digunakan secara permanen, baik dalam bulanan atau tahunan.\\nTermasuk kegiatan penjualan tanah, pengembangan gedung untuk dioperasikan sendiri (untuk penyewaan ruang-ruang di gedung tersebut), pembagian real estat menjadi tanah kavling tanpa pengembangan lahan dan pengoperasian kawasan hunian untuk rumah yang bisa dipindah-pindah.\\nKegiatan usaha Perseroan saat ini fokus kepada pengembangan real estate di kawasan Tangerang bersama dengan dan melalui entitas anak.\\nUntuk periode enam bulan yang berakhir pada tanggal 30 Juni 2024, pendapatan Perseroan mayoritas berasal dari real estate mewakili lebih dari 99% total pendapatan neto konsolidasian Perseroan.\\nDiketahui PANI merupakan perusahaan milik konglomerat RI Sugianto Kusuma atau Aguan. Ia juga sekaligus menjabat presiden direktur PANI.\\nPT Raharja Energi Cepu Tbk (RATU)\\nAnak usaha PT Rukun Raharja tbk (RAJA) milik Happy Hapsoro suami Puan Maharani akan melakukan IPO. PT Raharja Energi Cepu Tbk (RATU) akan melepas sahamnya di Bursa Efek Indonesia (BEI) melalui pencatatan saham perdana (Initial Public Offering/IPO) dengan sebanyak 543.010.800 saham atau setara dengan 20% dari jumlah modal ditempatkan dan disetor penuh dengan nilai nominal sebesar Rp10 per saham.\\nMengutip keterbukaan informasi, BEI, 543.010.800 saham terdiri dari 190.053.800 saham dari portepel atau sebesar 7,000% dari jumlah modal ditempatkan, dan sebanyak 352.957.000 saham atas nama milik PT Rukun Raharja Tbk (RAJA) disebut sebagai pemegang saham penjual atau sham divestasi setara dengan 13%.\\nHarga saham yang ditawarkan kepada masyarakat sebesar Rp900 sampai dengan Rp1.150 per saham. Sehingga nantinya, perseroan akan mendapatkan dana segar sebanyak banyaknya sebesar Rp624.462.420.000 yang terdiri dari Rp218.561.870.000 dari IPO dan Rp405.900.550.000 dari penawaran umum saham divestasi.\\nSaham divestasi dimiliki secara sah oleh pemegang saham penjual dan dalam keadaan bebas, tidak sedang dalam sengketa dan/atau dijaminkan kepada pihak manapun serta tidak sedang ditawarkan kepada pihak lain.\\nUntuk memuluskan aksi korporasi ini, RATU menunjuk PT Henan Putihrai Sekuritas dan PT Sucor Sekuritas.\\nNantinya, seluruh dana yang diperoleh dari IPO ini, setelah dikurangi seluruh biaya-biaya emisi sekitar Rp157.364.546.400 akan dipinjamkan kepada perusahaan anak yaitu PT Raharja Energi Tanjung Jabung.Dana itu selanjutnya akan digunakan untuk pemenuhan kewajiban pembayaran Cash Call dari PetroChina International Jabung Ltd. dalam rangka pengelolaan Blok Jabung dengan jumlah sekitar US$ 10.000.000 atau setara dengan Rp159.420.000.000 sehingga masih terdapat kekurangan dana sekitar Rp2.055.453.600,-, yang akan dilunasi dengan dana yang direncanakan bersumber dari kas internal Perseroan.\\nSekitar Rp34.969.899.200 akan dipinjamkan kepada perusahaan asosiasi yaitu PT Petrogas Jatim Utama Cendana, yang akan digunakan untuk mendukung kegiatan operasional melalui pemenuhan kewajiban pembayaran Cash Call dari ExxonMobil Cepu Ltd. Dalam rangka pengelolaan Blok Cepu dengan jumlah sekitar US$ 2.200.000 atau setara dengan Rp35.072.400.000 sehingga masih terdapat kekurangan dana sekitar Rp102.500.800 yang akan dilunasi dengan dana yang direncanakan bersumber dari kas internal Perseroan.\\nSementara, sisanya akan digunakan untuk modal kerja seperti renumerasi karyawan serta pengurus dan pengawas (Direksi dan Dewan Komisaris) dan biaya operasional Perseroan.\\nCNBC Indonesia Research\\n[email\\u00a0protected]\"\n        ],\n        \"semantic_type\": \"\",\n        \"description\": \"\"\n      }\n    },\n    {\n      \"column\": \"url\",\n      \"properties\": {\n        \"dtype\": \"string\",\n        \"num_unique_values\": 400,\n        \"samples\": [\n          \"https://www.cnbcindonesia.com/tech/20241219133933-37-597312/waspada-whatsapp-disadap-dari-jarak-jauh-kenali-tandanya\",\n          \"https://www.cnbcindonesia.com/tech/20241216143658-37-596375/netflix-dan-spotify-kena-ppn-12-harga-langganan-naik-jadi-segini\",\n          \"https://www.cnbcindonesia.com/research/20241217093447-128-596559/siap-siap-5-saham-ini-bakal-melantai-di-awal-2025-ada-punya-aguan\"\n        ],\n        \"semantic_type\": \"\",\n        \"description\": \"\"\n      }\n    },\n    {\n      \"column\": \"kategori\",\n      \"properties\": {\n        \"dtype\": \"category\",\n        \"num_unique_values\": 4,\n        \"samples\": [\n          \"News\",\n          \"Market\",\n          \"Research\"\n        ],\n        \"semantic_type\": \"\",\n        \"description\": \"\"\n      }\n    }\n  ]\n}"
            }
          },
          "metadata": {},
          "execution_count": 8
        }
      ],
      "source": [
        "df.head(10)"
      ]
    },
    {
      "cell_type": "markdown",
      "metadata": {
        "id": "0MKkRAcGbdjt"
      },
      "source": [
        "# Convert data ke dalam csv"
      ]
    },
    {
      "cell_type": "markdown",
      "metadata": {
        "id": "HwytvXGce22U"
      },
      "source": [
        "jika data sudah Valid, selajutnya proses penyimpanan.\n"
      ]
    },
    {
      "cell_type": "code",
      "execution_count": null,
      "metadata": {
        "id": "uM-_hSs-TN2M"
      },
      "outputs": [],
      "source": [
        "# Membuat dataframe dari list data\n",
        "df = pd.DataFrame({\"judul\": judul, \"tanggal\": tanggal, \"isi\": isi, \"url\": url_list, \"kategori\": kategori_list})\n",
        "\n",
        "# Menyimpan dataframe ke file csv\n",
        "df.to_csv(\"Hasil_crawling_cnbc.csv\", index=False)"
      ]
    }
  ],
  "metadata": {
    "colab": {
      "provenance": [],
      "collapsed_sections": [
        "PpM-0GTtWNY9",
        "I50jpU9QWfwc",
        "1aySOWR3bRdS",
        "0MKkRAcGbdjt"
      ]
    },
    "kernelspec": {
      "display_name": "Python 3 (ipykernel)",
      "language": "python",
      "name": "python3"
    },
    "language_info": {
      "codemirror_mode": {
        "name": "ipython",
        "version": 3
      },
      "file_extension": ".py",
      "mimetype": "text/x-python",
      "name": "python",
      "nbconvert_exporter": "python",
      "pygments_lexer": "ipython3",
      "version": "3.11.9"
    }
  },
  "nbformat": 4,
  "nbformat_minor": 0
}